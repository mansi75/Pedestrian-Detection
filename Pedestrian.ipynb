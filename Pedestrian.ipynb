{
 "cells": [
  {
   "cell_type": "code",
   "execution_count": 9,
   "metadata": {},
   "outputs": [],
   "source": [
    "import numpy as np\n",
    "import cv2\n",
    "fullbody_cascade = cv2.CascadeClassifier('/home/lenovo/pedestrian.xml')\n",
    "\n",
    "def object_detection(image, cascade, color = (0, 255, 210)):\n",
    "    \n",
    "    # Our operations on the frame come here\n",
    "    gray = cv2.cvtColor(image, cv2.COLOR_BGR2GRAY)\n",
    "    objects = cascade.detectMultiScale(gray, 1.3, 5)\n",
    "    for (x, y, w, h) in objects:\n",
    "        \n",
    "        # Draws rectangle around the objects\n",
    "        image = cv2.rectangle(image, (x,y), (x+w , y+h), color, 4)\n",
    "        \n",
    "        # Display text on top of rectangle\n",
    "        \n",
    "        \n",
    "    # Display the resulting frame\n",
    "    cv2.imshow('img', image)\n",
    "\n",
    "\n",
    "cap = cv2.VideoCapture('/home/lenovo/Downloads/pedestrian.avi')\n",
    "\n",
    "while(True):\n",
    "    \n",
    "    # Capture frame-by-frame\n",
    "    ret, frame = cap.read()\n",
    "    \n",
    "    # Breaks at the end of video\n",
    "    if (type(frame) == type(None)):\n",
    "        break\n",
    "        \n",
    "    # Calls the object detection function\n",
    "    object_detection(frame, fullbody_cascade)\n",
    "    \n",
    "    if cv2.waitKey(1) & 0xFF == ord('q'):\n",
    "        break\n",
    "\n",
    "# When everything done, release the capture\n",
    "cap.release()\n",
    "cv2.destroyAllWindows()\n",
    "\n"
   ]
  },
  {
   "cell_type": "code",
   "execution_count": null,
   "metadata": {},
   "outputs": [],
   "source": []
  }
 ],
 "metadata": {
  "kernelspec": {
   "display_name": "Python 3",
   "language": "python",
   "name": "python3"
  },
  "language_info": {
   "codemirror_mode": {
    "name": "ipython",
    "version": 3
   },
   "file_extension": ".py",
   "mimetype": "text/x-python",
   "name": "python",
   "nbconvert_exporter": "python",
   "pygments_lexer": "ipython3",
   "version": "3.6.9"
  }
 },
 "nbformat": 4,
 "nbformat_minor": 4
}
